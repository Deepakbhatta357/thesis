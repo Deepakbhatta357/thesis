{
 "cells": [
  {
   "cell_type": "code",
   "execution_count": 2,
   "metadata": {},
   "outputs": [],
   "source": [
    "import pandas as pd"
   ]
  },
  {
   "cell_type": "code",
   "execution_count": 3,
   "metadata": {},
   "outputs": [],
   "source": [
    "df=pd.read_csv(r\"C:\\Users\\ACER\\Desktop\\Dataset\\cleaned_data.csv\")"
   ]
  },
  {
   "cell_type": "code",
   "execution_count": 4,
   "metadata": {},
   "outputs": [
    {
     "data": {
      "text/plain": [
       "(48423, 2)"
      ]
     },
     "execution_count": 4,
     "metadata": {},
     "output_type": "execute_result"
    }
   ],
   "source": [
    "df.shape"
   ]
  },
  {
   "cell_type": "code",
   "execution_count": 5,
   "metadata": {},
   "outputs": [
    {
     "data": {
      "text/plain": [
       "Index(['title', 'text'], dtype='object')"
      ]
     },
     "execution_count": 5,
     "metadata": {},
     "output_type": "execute_result"
    }
   ],
   "source": [
    "df.columns"
   ]
  },
  {
   "cell_type": "code",
   "execution_count": 6,
   "metadata": {},
   "outputs": [
    {
     "name": "stdout",
     "output_type": "stream",
     "text": [
      "0 0\n"
     ]
    }
   ],
   "source": [
    "\n",
    "print((df['title'].str.len() == 0).sum(), (df['text'].str.len() == 0).sum())\n",
    "\n"
   ]
  },
  {
   "cell_type": "code",
   "execution_count": 10,
   "metadata": {},
   "outputs": [
    {
     "name": "stdout",
     "output_type": "stream",
     "text": [
      "2064 11913\n"
     ]
    }
   ],
   "source": [
    "print(df['title'].str.len().max(), df['text'].str.len().max())\n"
   ]
  },
  {
   "cell_type": "code",
   "execution_count": 11,
   "metadata": {},
   "outputs": [],
   "source": [
    "new=df"
   ]
  },
  {
   "cell_type": "code",
   "execution_count": 12,
   "metadata": {},
   "outputs": [
    {
     "name": "stdout",
     "output_type": "stream",
     "text": [
      "                                               title title_special_chars\n",
      "0                 मंगल यात्रा को आशा जगाउने स्टारसिप                  []\n",
      "1                           पप सम्राट्को दोस्रो इनिङ                  []\n",
      "2                           आठ आरोही जन्माउने किमजुङ                  []\n",
      "3                           ब्याट नं का अब्बल अधिकृत                  []\n",
      "4               दैनिक जीवनको एक हिस्सा हाम्रो पात्रो                  []\n",
      "5                    वर्षदेखि रंगमञ्च बनाइरहेका नायक                  []\n",
      "6                                    लेकको पाहुना घर                  []\n",
      "7                छोरासँगै संन्यासी भएकी सुमित्रादेवी                  []\n",
      "8  प मार्न सामेलहरूको देहान्तपछि मात्रै सर्प मारे...                  []\n",
      "9                      देउडाका शब्द बुन्ने राजेन्द्र                  []\n",
      "                                                text text_special_chars\n",
      "0  काठमाडौँ अमेरिकी अर्बपति इलन मस्कको कम्पनी स्प...                 []\n",
      "1  काठमाडौँ त्यतिबेला पपलाई गफ भनिन्थ्यो पश्चिमा ...                 []\n",
      "2  काठमाडौँ उनलाई के लाग्छ भने जीवन आफैंमा एक आरो...                 []\n",
      "3  काठमाडौँ नेपाल सरकारको अधिकृत ब्याट बेसिक एडमि...                 []\n",
      "4  काठमाडौँ केही समययता नेपालमा सूचना प्रविधि क्ष...                 []\n",
      "5  काठमाडौँ मञ्चमा एउटा भव्य कोठा देखिन्छ दर्शकदी...                 []\n",
      "6  पाँचथर व्यवहार बुझ्न थालेपछि फिदिम की तृष्णा र...                 []\n",
      "7  काठमाडौँ बाल्यकालमा रजनीशचन्द्र मोहन प्राध्याप...                 []\n",
      "8  जो आध्यात्मिक हुँदैन ऊ सुखी र खुसी हुन सक्दैन ...                 []\n",
      "9  धनगढी साठीको दशकमा मुर्झाएको देउडा संगीत को दश...                 []\n"
     ]
    }
   ],
   "source": [
    "import re\n",
    "\n",
    "def find_special_chars(text):\n",
    "    return re.findall(r'[^ँ-ःऀ-ॿ\\s]', text)  # Keeps only Nepali script and spaces\n",
    "\n",
    "new['title_special_chars'] = new['title'].apply(find_special_chars)\n",
    "new['text_special_chars'] = new['text'].apply(find_special_chars)\n",
    "\n",
    "# Display some sample rows with special characters\n",
    "print(new[['title', 'title_special_chars']].head(10))\n",
    "print(new[['text', 'text_special_chars']].head(10))\n"
   ]
  },
  {
   "cell_type": "code",
   "execution_count": 13,
   "metadata": {},
   "outputs": [
    {
     "data": {
      "text/html": [
       "<div>\n",
       "<style scoped>\n",
       "    .dataframe tbody tr th:only-of-type {\n",
       "        vertical-align: middle;\n",
       "    }\n",
       "\n",
       "    .dataframe tbody tr th {\n",
       "        vertical-align: top;\n",
       "    }\n",
       "\n",
       "    .dataframe thead th {\n",
       "        text-align: right;\n",
       "    }\n",
       "</style>\n",
       "<table border=\"1\" class=\"dataframe\">\n",
       "  <thead>\n",
       "    <tr style=\"text-align: right;\">\n",
       "      <th></th>\n",
       "      <th>title</th>\n",
       "      <th>text</th>\n",
       "      <th>title_special_chars</th>\n",
       "      <th>text_special_chars</th>\n",
       "    </tr>\n",
       "  </thead>\n",
       "  <tbody>\n",
       "    <tr>\n",
       "      <th>0</th>\n",
       "      <td>मंगल यात्रा को आशा जगाउने स्टारसिप</td>\n",
       "      <td>काठमाडौँ अमेरिकी अर्बपति इलन मस्कको कम्पनी स्प...</td>\n",
       "      <td>[]</td>\n",
       "      <td>[]</td>\n",
       "    </tr>\n",
       "    <tr>\n",
       "      <th>1</th>\n",
       "      <td>पप सम्राट्को दोस्रो इनिङ</td>\n",
       "      <td>काठमाडौँ त्यतिबेला पपलाई गफ भनिन्थ्यो पश्चिमा ...</td>\n",
       "      <td>[]</td>\n",
       "      <td>[]</td>\n",
       "    </tr>\n",
       "    <tr>\n",
       "      <th>2</th>\n",
       "      <td>आठ आरोही जन्माउने किमजुङ</td>\n",
       "      <td>काठमाडौँ उनलाई के लाग्छ भने जीवन आफैंमा एक आरो...</td>\n",
       "      <td>[]</td>\n",
       "      <td>[]</td>\n",
       "    </tr>\n",
       "  </tbody>\n",
       "</table>\n",
       "</div>"
      ],
      "text/plain": [
       "                                title  \\\n",
       "0  मंगल यात्रा को आशा जगाउने स्टारसिप   \n",
       "1            पप सम्राट्को दोस्रो इनिङ   \n",
       "2            आठ आरोही जन्माउने किमजुङ   \n",
       "\n",
       "                                                text title_special_chars  \\\n",
       "0  काठमाडौँ अमेरिकी अर्बपति इलन मस्कको कम्पनी स्प...                  []   \n",
       "1  काठमाडौँ त्यतिबेला पपलाई गफ भनिन्थ्यो पश्चिमा ...                  []   \n",
       "2  काठमाडौँ उनलाई के लाग्छ भने जीवन आफैंमा एक आरो...                  []   \n",
       "\n",
       "  text_special_chars  \n",
       "0                 []  \n",
       "1                 []  \n",
       "2                 []  "
      ]
     },
     "execution_count": 13,
     "metadata": {},
     "output_type": "execute_result"
    }
   ],
   "source": [
    "new.head(3)"
   ]
  },
  {
   "cell_type": "code",
   "execution_count": 14,
   "metadata": {},
   "outputs": [
    {
     "name": "stdout",
     "output_type": "stream",
     "text": [
      "                                  title  \\\n",
      "0    मंगल यात्रा को आशा जगाउने स्टारसिप   \n",
      "1              पप सम्राट्को दोस्रो इनिङ   \n",
      "2              आठ आरोही जन्माउने किमजुङ   \n",
      "3              ब्याट नं का अब्बल अधिकृत   \n",
      "4  दैनिक जीवनको एक हिस्सा हाम्रो पात्रो   \n",
      "\n",
      "                                                text  \n",
      "0  काठमाडौँ अमेरिकी अर्बपति इलन मस्कको कम्पनी स्प...  \n",
      "1  काठमाडौँ त्यतिबेला पपलाई गफ भनिन्थ्यो पश्चिमा ...  \n",
      "2  काठमाडौँ उनलाई के लाग्छ भने जीवन आफैंमा एक आरो...  \n",
      "3  काठमाडौँ नेपाल सरकारको अधिकृत ब्याट बेसिक एडमि...  \n",
      "4  काठमाडौँ केही समययता नेपालमा सूचना प्रविधि क्ष...  \n"
     ]
    }
   ],
   "source": [
    "# Drop the specified columns\n",
    "new = new.drop(columns=['title_special_chars', 'text_special_chars'])\n",
    "\n",
    "# Display the updated DataFrame\n",
    "print(new.head())\n"
   ]
  },
  {
   "cell_type": "code",
   "execution_count": null,
   "metadata": {},
   "outputs": [
    {
     "data": {
      "text/html": [
       "<div>\n",
       "<style scoped>\n",
       "    .dataframe tbody tr th:only-of-type {\n",
       "        vertical-align: middle;\n",
       "    }\n",
       "\n",
       "    .dataframe tbody tr th {\n",
       "        vertical-align: top;\n",
       "    }\n",
       "\n",
       "    .dataframe thead th {\n",
       "        text-align: right;\n",
       "    }\n",
       "</style>\n",
       "<table border=\"1\" class=\"dataframe\">\n",
       "  <thead>\n",
       "    <tr style=\"text-align: right;\">\n",
       "      <th></th>\n",
       "      <th>title</th>\n",
       "      <th>text</th>\n",
       "    </tr>\n",
       "  </thead>\n",
       "  <tbody>\n",
       "    <tr>\n",
       "      <th>0</th>\n",
       "      <td>मंगल यात्रा को आशा जगाउने स्टारसिप</td>\n",
       "      <td>काठमाडौँ अमेरिकी अर्बपति इलन मस्कको कम्पनी स्प...</td>\n",
       "    </tr>\n",
       "    <tr>\n",
       "      <th>1</th>\n",
       "      <td>पप सम्राट्को दोस्रो इनिङ</td>\n",
       "      <td>काठमाडौँ त्यतिबेला पपलाई गफ भनिन्थ्यो पश्चिमा ...</td>\n",
       "    </tr>\n",
       "    <tr>\n",
       "      <th>2</th>\n",
       "      <td>आठ आरोही जन्माउने किमजुङ</td>\n",
       "      <td>काठमाडौँ उनलाई के लाग्छ भने जीवन आफैंमा एक आरो...</td>\n",
       "    </tr>\n",
       "    <tr>\n",
       "      <th>3</th>\n",
       "      <td>ब्याट नं का अब्बल अधिकृत</td>\n",
       "      <td>काठमाडौँ नेपाल सरकारको अधिकृत ब्याट बेसिक एडमि...</td>\n",
       "    </tr>\n",
       "    <tr>\n",
       "      <th>4</th>\n",
       "      <td>दैनिक जीवनको एक हिस्सा हाम्रो पात्रो</td>\n",
       "      <td>काठमाडौँ केही समययता नेपालमा सूचना प्रविधि क्ष...</td>\n",
       "    </tr>\n",
       "  </tbody>\n",
       "</table>\n",
       "</div>"
      ],
      "text/plain": [
       "                                  title  \\\n",
       "0    मंगल यात्रा को आशा जगाउने स्टारसिप   \n",
       "1              पप सम्राट्को दोस्रो इनिङ   \n",
       "2              आठ आरोही जन्माउने किमजुङ   \n",
       "3              ब्याट नं का अब्बल अधिकृत   \n",
       "4  दैनिक जीवनको एक हिस्सा हाम्रो पात्रो   \n",
       "\n",
       "                                                text  \n",
       "0  काठमाडौँ अमेरिकी अर्बपति इलन मस्कको कम्पनी स्प...  \n",
       "1  काठमाडौँ त्यतिबेला पपलाई गफ भनिन्थ्यो पश्चिमा ...  \n",
       "2  काठमाडौँ उनलाई के लाग्छ भने जीवन आफैंमा एक आरो...  \n",
       "3  काठमाडौँ नेपाल सरकारको अधिकृत ब्याट बेसिक एडमि...  \n",
       "4  काठमाडौँ केही समययता नेपालमा सूचना प्रविधि क्ष...  "
      ]
     },
     "execution_count": 24,
     "metadata": {},
     "output_type": "execute_result"
    }
   ],
   "source": [
    "new.head()"
   ]
  },
  {
   "cell_type": "code",
   "execution_count": 15,
   "metadata": {},
   "outputs": [
    {
     "name": "stdout",
     "output_type": "stream",
     "text": [
      "\n",
      "No empty rows in 'title' or 'text' columns.\n",
      "\n",
      "Rows with short title (<5 chars): 11\n",
      "Rows with short text (<5 chars): 0\n",
      "\n",
      "Sample cleaned data:\n",
      "                                               title  \\\n",
      "0                 मंगल यात्रा को आशा जगाउने स्टारसिप   \n",
      "1                           पप सम्राट्को दोस्रो इनिङ   \n",
      "2                           आठ आरोही जन्माउने किमजुङ   \n",
      "3                           ब्याट नं का अब्बल अधिकृत   \n",
      "4               दैनिक जीवनको एक हिस्सा हाम्रो पात्रो   \n",
      "5                    वर्षदेखि रंगमञ्च बनाइरहेका नायक   \n",
      "6                                    लेकको पाहुना घर   \n",
      "7                छोरासँगै संन्यासी भएकी सुमित्रादेवी   \n",
      "8  प मार्न सामेलहरूको देहान्तपछि मात्रै सर्प मारे...   \n",
      "9                      देउडाका शब्द बुन्ने राजेन्द्र   \n",
      "\n",
      "                                                text  \n",
      "0  काठमाडौँ अमेरिकी अर्बपति इलन मस्कको कम्पनी स्प...  \n",
      "1  काठमाडौँ त्यतिबेला पपलाई गफ भनिन्थ्यो पश्चिमा ...  \n",
      "2  काठमाडौँ उनलाई के लाग्छ भने जीवन आफैंमा एक आरो...  \n",
      "3  काठमाडौँ नेपाल सरकारको अधिकृत ब्याट बेसिक एडमि...  \n",
      "4  काठमाडौँ केही समययता नेपालमा सूचना प्रविधि क्ष...  \n",
      "5  काठमाडौँ मञ्चमा एउटा भव्य कोठा देखिन्छ दर्शकदी...  \n",
      "6  पाँचथर व्यवहार बुझ्न थालेपछि फिदिम की तृष्णा र...  \n",
      "7  काठमाडौँ बाल्यकालमा रजनीशचन्द्र मोहन प्राध्याप...  \n",
      "8  जो आध्यात्मिक हुँदैन ऊ सुखी र खुसी हुन सक्दैन ...  \n",
      "9  धनगढी साठीको दशकमा मुर्झाएको देउडा संगीत को दश...  \n"
     ]
    }
   ],
   "source": [
    "import re\n",
    "\n",
    "# Step 1: Check for unwanted whitespaces and remove them\n",
    "new['title'] = new['title'].str.strip()\n",
    "new['text'] = new['text'].str.strip()\n",
    "\n",
    "# Step 2: Check for any non-standard characters and clean them\n",
    "# This will remove any characters that are not Nepali script or spaces\n",
    "def clean_text(text):\n",
    "    return re.sub(r'[^ँ-ःऀ-ॿ\\s]', '', text)\n",
    "\n",
    "new['title'] = new['title'].apply(clean_text)\n",
    "new['text'] = new['text'].apply(clean_text)\n",
    "\n",
    "# Step 3: Check for any empty or null values\n",
    "empty_title = (new['title'].str.len() == 0).sum()\n",
    "empty_text = (new['text'].str.len() == 0).sum()\n",
    "\n",
    "if empty_title > 0 or empty_text > 0:\n",
    "    print(f\"\\nEmpty title rows: {empty_title}, Empty text rows: {empty_text}\")\n",
    "else:\n",
    "    print(\"\\nNo empty rows in 'title' or 'text' columns.\")\n",
    "\n",
    "# Step 4: Check for rows with extremely short text (you can adjust the minimum length as needed)\n",
    "min_length = 5  # Set minimum character length for text to be valid\n",
    "short_title = (new['title'].str.len() < min_length).sum()\n",
    "short_text = (new['text'].str.len() < min_length).sum()\n",
    "\n",
    "if short_title > 0 or short_text > 0:\n",
    "    print(f\"\\nRows with short title (<{min_length} chars): {short_title}\")\n",
    "    print(f\"Rows with short text (<{min_length} chars): {short_text}\")\n",
    "else:\n",
    "    print(f\"\\nAll titles and texts are longer than {min_length} characters.\")\n",
    "\n",
    "# Display a small sample of the cleaned data\n",
    "print(\"\\nSample cleaned data:\")\n",
    "print(new[['title', 'text']].head(10))\n"
   ]
  },
  {
   "cell_type": "code",
   "execution_count": 16,
   "metadata": {},
   "outputs": [],
   "source": [
    "new = new[new['title'].str.len() >= 5]\n"
   ]
  },
  {
   "cell_type": "code",
   "execution_count": 17,
   "metadata": {},
   "outputs": [
    {
     "name": "stdout",
     "output_type": "stream",
     "text": [
      "Empty title rows: 0\n",
      "Empty text rows: 0\n",
      "Rows with short titles (< 5 characters): 0\n",
      "Rows with short text (< 5 characters): 0\n",
      "Duplicate rows: 0\n",
      "\n",
      "Data types:\n",
      "title    object\n",
      "text     object\n",
      "dtype: object\n",
      "\n",
      "Sample cleaned data:\n",
      "                                               title  \\\n",
      "0                 मंगल यात्रा को आशा जगाउने स्टारसिप   \n",
      "1                           पप सम्राट्को दोस्रो इनिङ   \n",
      "2                           आठ आरोही जन्माउने किमजुङ   \n",
      "3                           ब्याट नं का अब्बल अधिकृत   \n",
      "4               दैनिक जीवनको एक हिस्सा हाम्रो पात्रो   \n",
      "5                    वर्षदेखि रंगमञ्च बनाइरहेका नायक   \n",
      "6                                    लेकको पाहुना घर   \n",
      "7                छोरासँगै संन्यासी भएकी सुमित्रादेवी   \n",
      "8  प मार्न सामेलहरूको देहान्तपछि मात्रै सर्प मारे...   \n",
      "9                      देउडाका शब्द बुन्ने राजेन्द्र   \n",
      "\n",
      "                                                text  \n",
      "0  काठमाडौँ अमेरिकी अर्बपति इलन मस्कको कम्पनी स्प...  \n",
      "1  काठमाडौँ त्यतिबेला पपलाई गफ भनिन्थ्यो पश्चिमा ...  \n",
      "2  काठमाडौँ उनलाई के लाग्छ भने जीवन आफैंमा एक आरो...  \n",
      "3  काठमाडौँ नेपाल सरकारको अधिकृत ब्याट बेसिक एडमि...  \n",
      "4  काठमाडौँ केही समययता नेपालमा सूचना प्रविधि क्ष...  \n",
      "5  काठमाडौँ मञ्चमा एउटा भव्य कोठा देखिन्छ दर्शकदी...  \n",
      "6  पाँचथर व्यवहार बुझ्न थालेपछि फिदिम की तृष्णा र...  \n",
      "7  काठमाडौँ बाल्यकालमा रजनीशचन्द्र मोहन प्राध्याप...  \n",
      "8  जो आध्यात्मिक हुँदैन ऊ सुखी र खुसी हुन सक्दैन ...  \n",
      "9  धनगढी साठीको दशकमा मुर्झाएको देउडा संगीत को दश...  \n"
     ]
    }
   ],
   "source": [
    "# Check for non-standard characters in 'title' and 'text'\n",
    "def clean_text(text):\n",
    "    return re.sub(r'[^ँ-ःऀ-ॿ\\s]', '', text)\n",
    "\n",
    "new['title'] = new['title'].apply(clean_text)\n",
    "new['text'] = new['text'].apply(clean_text)\n",
    "\n",
    "# Check for any empty or null values in 'title' and 'text'\n",
    "empty_title = (new['title'].str.len() == 0).sum()\n",
    "empty_text = (new['text'].str.len() == 0).sum()\n",
    "\n",
    "# Check for short text (less than 5 characters in 'title' and 'text')\n",
    "short_title = (new['title'].str.len() < 5).sum()\n",
    "short_text = (new['text'].str.len() < 5).sum()\n",
    "\n",
    "# Check for duplicates\n",
    "duplicates = new.duplicated().sum()\n",
    "\n",
    "# Check the data types\n",
    "data_types = new.dtypes\n",
    "\n",
    "# Output the results\n",
    "print(f\"Empty title rows: {empty_title}\")\n",
    "print(f\"Empty text rows: {empty_text}\")\n",
    "print(f\"Rows with short titles (< 5 characters): {short_title}\")\n",
    "print(f\"Rows with short text (< 5 characters): {short_text}\")\n",
    "print(f\"Duplicate rows: {duplicates}\")\n",
    "print(\"\\nData types:\")\n",
    "print(data_types)\n",
    "\n",
    "# Sample the cleaned data\n",
    "print(\"\\nSample cleaned data:\")\n",
    "print(new[['title', 'text']].head(10))\n"
   ]
  },
  {
   "cell_type": "code",
   "execution_count": 21,
   "metadata": {},
   "outputs": [
    {
     "name": "stderr",
     "output_type": "stream",
     "text": [
      "  0%|          | 185/48412 [00:00<00:26, 1840.80it/s]Token indices sequence length is longer than the specified maximum sequence length for this model (545 > 512). Running this sequence through the model will result in indexing errors\n",
      "100%|██████████| 48412/48412 [00:18<00:00, 2668.12it/s]\n",
      "100%|██████████| 48412/48412 [03:34<00:00, 225.86it/s]\n"
     ]
    },
    {
     "name": "stdout",
     "output_type": "stream",
     "text": [
      "                                  title  \\\n",
      "0    मंगल यात्रा को आशा जगाउने स्टारसिप   \n",
      "1              पप सम्राट्को दोस्रो इनिङ   \n",
      "2              आठ आरोही जन्माउने किमजुङ   \n",
      "3              ब्याट नं का अब्बल अधिकृत   \n",
      "4  दैनिक जीवनको एक हिस्सा हाम्रो पात्रो   \n",
      "\n",
      "                                                text  \\\n",
      "0  काठमाडौँ अमेरिकी अर्बपति इलन मस्कको कम्पनी स्प...   \n",
      "1  काठमाडौँ त्यतिबेला पपलाई गफ भनिन्थ्यो पश्चिमा ...   \n",
      "2  काठमाडौँ उनलाई के लाग्छ भने जीवन आफैंमा एक आरो...   \n",
      "3  काठमाडौँ नेपाल सरकारको अधिकृत ब्याट बेसिक एडमि...   \n",
      "4  काठमाडौँ केही समययता नेपालमा सूचना प्रविधि क्ष...   \n",
      "\n",
      "                                      title_token_id  \\\n",
      "0  [101, 889, 31222, 11714, 79632, 11267, 852, 10...   \n",
      "1  [101, 885, 18187, 898, 45753, 31277, 14835, 28...   \n",
      "2  [101, 852, 35247, 107144, 13718, 24667, 25595,...   \n",
      "3  [101, 887, 17279, 14835, 16373, 11081, 49545, ...   \n",
      "4  [101, 882, 76549, 44388, 12512, 11186, 110091,...   \n",
      "\n",
      "                                title_attention_mask  \\\n",
      "0  [1, 1, 1, 1, 1, 1, 1, 1, 1, 1, 1, 1, 1, 1, 1, ...   \n",
      "1  [1, 1, 1, 1, 1, 1, 1, 1, 1, 1, 1, 1, 1, 1, 1, ...   \n",
      "2  [1, 1, 1, 1, 1, 1, 1, 1, 1, 1, 1, 1, 1, 1, 1, ...   \n",
      "3  [1, 1, 1, 1, 1, 1, 1, 1, 1, 1, 1, 0, 0, 0, 0, ...   \n",
      "4  [1, 1, 1, 1, 1, 1, 1, 1, 1, 1, 1, 1, 1, 1, 0, ...   \n",
      "\n",
      "                                       text_token_id  \\\n",
      "0  [101, 11081, 35247, 12347, 20691, 78530, 28462...   \n",
      "1  [101, 11081, 35247, 12347, 20691, 78530, 28462...   \n",
      "2  [101, 11081, 35247, 12347, 20691, 78530, 28462...   \n",
      "3  [101, 11081, 35247, 12347, 20691, 78530, 28462...   \n",
      "4  [101, 11081, 35247, 12347, 20691, 78530, 28462...   \n",
      "\n",
      "                                 text_attention_mask  \\\n",
      "0  [1, 1, 1, 1, 1, 1, 1, 1, 1, 1, 1, 1, 1, 1, 1, ...   \n",
      "1  [1, 1, 1, 1, 1, 1, 1, 1, 1, 1, 1, 1, 1, 1, 1, ...   \n",
      "2  [1, 1, 1, 1, 1, 1, 1, 1, 1, 1, 1, 1, 1, 1, 1, ...   \n",
      "3  [1, 1, 1, 1, 1, 1, 1, 1, 1, 1, 1, 1, 1, 1, 1, ...   \n",
      "4  [1, 1, 1, 1, 1, 1, 1, 1, 1, 1, 1, 1, 1, 1, 1, ...   \n",
      "\n",
      "                                        title_tokens  \\\n",
      "0  [म, ##ंग, ##ल, यात्रा, को, आ, ##शा, ज, ##गा, #...   \n",
      "1  [प, ##प, स, ##म्, ##रा, ##ट, ##्क, ##ो, दो, ##...   \n",
      "2  [आ, ##ठ, आर, ##ो, ##ही, जन्म, ##ा, ##उने, कि, ...   \n",
      "3     [ब, ##्या, ##ट, नं, का, अब, ##्, ##बल, अधिकृत]   \n",
      "4  [द, ##ैनिक, जीवन, ##को, एक, हिस्सा, हा, ##म्, ...   \n",
      "\n",
      "                                         text_tokens  \n",
      "0  [का, ##ठ, ##मा, ##ड, ##ौ, ##ँ, अमेरिकी, अ, ##र...  \n",
      "1  [का, ##ठ, ##मा, ##ड, ##ौ, ##ँ, त, ##्य, ##ति, ...  \n",
      "2  [का, ##ठ, ##मा, ##ड, ##ौ, ##ँ, उन, ##लाई, के, ...  \n",
      "3  [का, ##ठ, ##मा, ##ड, ##ौ, ##ँ, नेपाल, सरकार, #...  \n",
      "4  [का, ##ठ, ##मा, ##ड, ##ौ, ##ँ, केही, समय, ##यत...  \n"
     ]
    }
   ],
   "source": [
    "import torch\n",
    "from transformers import BertTokenizerFast\n",
    "import pandas as pd\n",
    "from tqdm import tqdm\n",
    "\n",
    "# Load the mBERT tokenizer\n",
    "tokenizer = BertTokenizerFast.from_pretrained(\"bert-base-multilingual-cased\")\n",
    "\n",
    "# Function to tokenize text with a 512-token limit\n",
    "def tokenize_text(text):\n",
    "    encoding = tokenizer(\n",
    "        text,\n",
    "        add_special_tokens=True,  # Add [CLS] and [SEP] tokens\n",
    "        max_length=512,  # Limit token length\n",
    "        truncation=True,  # Truncate longer texts\n",
    "        padding=\"max_length\",  # Pad to 512 tokens\n",
    "        return_tensors=None  # Avoid PyTorch tensors (saves memory)\n",
    "    )\n",
    "    \n",
    "    tokens = tokenizer.tokenize(text)[:512]  # Get tokenized words (limited to 512)\n",
    "    token_ids = encoding[\"input_ids\"]  # Get token IDs\n",
    "    attention_mask = encoding[\"attention_mask\"]  # Get attention mask\n",
    "\n",
    "    return tokens, token_ids, attention_mask\n",
    "\n",
    "# Enable tqdm progress bar for Pandas\n",
    "tqdm.pandas()\n",
    "\n",
    "# Apply tokenization with progress bar\n",
    "new[[\"title_tokens\", \"title_token_id\", \"title_attention_mask\"]] = new[\"title\"].progress_apply(lambda x: pd.Series(tokenize_text(x)))\n",
    "new[[\"text_tokens\", \"text_token_id\", \"text_attention_mask\"]] = new[\"text\"].progress_apply(lambda x: pd.Series(tokenize_text(x)))\n",
    "\n",
    "# Save tokenized data for later use\n",
    "new.to_csv(\"tokenized_dataset.csv\", index=False)  # Saves as CSV\n",
    "new.to_pickle(\"tokenized_dataset.pkl\")  # Saves as a binary pickle file\n",
    "\n",
    "# Show final structure\n",
    "print(new.head())\n"
   ]
  },
  {
   "cell_type": "code",
   "execution_count": 22,
   "metadata": {},
   "outputs": [
    {
     "data": {
      "text/html": [
       "<div>\n",
       "<style scoped>\n",
       "    .dataframe tbody tr th:only-of-type {\n",
       "        vertical-align: middle;\n",
       "    }\n",
       "\n",
       "    .dataframe tbody tr th {\n",
       "        vertical-align: top;\n",
       "    }\n",
       "\n",
       "    .dataframe thead th {\n",
       "        text-align: right;\n",
       "    }\n",
       "</style>\n",
       "<table border=\"1\" class=\"dataframe\">\n",
       "  <thead>\n",
       "    <tr style=\"text-align: right;\">\n",
       "      <th></th>\n",
       "      <th>title</th>\n",
       "      <th>text</th>\n",
       "      <th>title_token_id</th>\n",
       "      <th>title_attention_mask</th>\n",
       "      <th>text_token_id</th>\n",
       "      <th>text_attention_mask</th>\n",
       "      <th>title_tokens</th>\n",
       "      <th>text_tokens</th>\n",
       "    </tr>\n",
       "  </thead>\n",
       "  <tbody>\n",
       "    <tr>\n",
       "      <th>0</th>\n",
       "      <td>मंगल यात्रा को आशा जगाउने स्टारसिप</td>\n",
       "      <td>काठमाडौँ अमेरिकी अर्बपति इलन मस्कको कम्पनी स्प...</td>\n",
       "      <td>[101, 889, 31222, 11714, 79632, 11267, 852, 10...</td>\n",
       "      <td>[1, 1, 1, 1, 1, 1, 1, 1, 1, 1, 1, 1, 1, 1, 1, ...</td>\n",
       "      <td>[101, 11081, 35247, 12347, 20691, 78530, 28462...</td>\n",
       "      <td>[1, 1, 1, 1, 1, 1, 1, 1, 1, 1, 1, 1, 1, 1, 1, ...</td>\n",
       "      <td>[म, ##ंग, ##ल, यात्रा, को, आ, ##शा, ज, ##गा, #...</td>\n",
       "      <td>[का, ##ठ, ##मा, ##ड, ##ौ, ##ँ, अमेरिकी, अ, ##र...</td>\n",
       "    </tr>\n",
       "    <tr>\n",
       "      <th>1</th>\n",
       "      <td>पप सम्राट्को दोस्रो इनिङ</td>\n",
       "      <td>काठमाडौँ त्यतिबेला पपलाई गफ भनिन्थ्यो पश्चिमा ...</td>\n",
       "      <td>[101, 885, 18187, 898, 45753, 31277, 14835, 28...</td>\n",
       "      <td>[1, 1, 1, 1, 1, 1, 1, 1, 1, 1, 1, 1, 1, 1, 1, ...</td>\n",
       "      <td>[101, 11081, 35247, 12347, 20691, 78530, 28462...</td>\n",
       "      <td>[1, 1, 1, 1, 1, 1, 1, 1, 1, 1, 1, 1, 1, 1, 1, ...</td>\n",
       "      <td>[प, ##प, स, ##म्, ##रा, ##ट, ##्क, ##ो, दो, ##...</td>\n",
       "      <td>[का, ##ठ, ##मा, ##ड, ##ौ, ##ँ, त, ##्य, ##ति, ...</td>\n",
       "    </tr>\n",
       "    <tr>\n",
       "      <th>2</th>\n",
       "      <td>आठ आरोही जन्माउने किमजुङ</td>\n",
       "      <td>काठमाडौँ उनलाई के लाग्छ भने जीवन आफैंमा एक आरो...</td>\n",
       "      <td>[101, 852, 35247, 107144, 13718, 24667, 25595,...</td>\n",
       "      <td>[1, 1, 1, 1, 1, 1, 1, 1, 1, 1, 1, 1, 1, 1, 1, ...</td>\n",
       "      <td>[101, 11081, 35247, 12347, 20691, 78530, 28462...</td>\n",
       "      <td>[1, 1, 1, 1, 1, 1, 1, 1, 1, 1, 1, 1, 1, 1, 1, ...</td>\n",
       "      <td>[आ, ##ठ, आर, ##ो, ##ही, जन्म, ##ा, ##उने, कि, ...</td>\n",
       "      <td>[का, ##ठ, ##मा, ##ड, ##ौ, ##ँ, उन, ##लाई, के, ...</td>\n",
       "    </tr>\n",
       "    <tr>\n",
       "      <th>3</th>\n",
       "      <td>ब्याट नं का अब्बल अधिकृत</td>\n",
       "      <td>काठमाडौँ नेपाल सरकारको अधिकृत ब्याट बेसिक एडमि...</td>\n",
       "      <td>[101, 887, 17279, 14835, 16373, 11081, 49545, ...</td>\n",
       "      <td>[1, 1, 1, 1, 1, 1, 1, 1, 1, 1, 1, 0, 0, 0, 0, ...</td>\n",
       "      <td>[101, 11081, 35247, 12347, 20691, 78530, 28462...</td>\n",
       "      <td>[1, 1, 1, 1, 1, 1, 1, 1, 1, 1, 1, 1, 1, 1, 1, ...</td>\n",
       "      <td>[ब, ##्या, ##ट, नं, का, अब, ##्, ##बल, अधिकृत]</td>\n",
       "      <td>[का, ##ठ, ##मा, ##ड, ##ौ, ##ँ, नेपाल, सरकार, #...</td>\n",
       "    </tr>\n",
       "    <tr>\n",
       "      <th>4</th>\n",
       "      <td>दैनिक जीवनको एक हिस्सा हाम्रो पात्रो</td>\n",
       "      <td>काठमाडौँ केही समययता नेपालमा सूचना प्रविधि क्ष...</td>\n",
       "      <td>[101, 882, 76549, 44388, 12512, 11186, 110091,...</td>\n",
       "      <td>[1, 1, 1, 1, 1, 1, 1, 1, 1, 1, 1, 1, 1, 1, 0, ...</td>\n",
       "      <td>[101, 11081, 35247, 12347, 20691, 78530, 28462...</td>\n",
       "      <td>[1, 1, 1, 1, 1, 1, 1, 1, 1, 1, 1, 1, 1, 1, 1, ...</td>\n",
       "      <td>[द, ##ैनिक, जीवन, ##को, एक, हिस्सा, हा, ##म्, ...</td>\n",
       "      <td>[का, ##ठ, ##मा, ##ड, ##ौ, ##ँ, केही, समय, ##यत...</td>\n",
       "    </tr>\n",
       "  </tbody>\n",
       "</table>\n",
       "</div>"
      ],
      "text/plain": [
       "                                  title  \\\n",
       "0    मंगल यात्रा को आशा जगाउने स्टारसिप   \n",
       "1              पप सम्राट्को दोस्रो इनिङ   \n",
       "2              आठ आरोही जन्माउने किमजुङ   \n",
       "3              ब्याट नं का अब्बल अधिकृत   \n",
       "4  दैनिक जीवनको एक हिस्सा हाम्रो पात्रो   \n",
       "\n",
       "                                                text  \\\n",
       "0  काठमाडौँ अमेरिकी अर्बपति इलन मस्कको कम्पनी स्प...   \n",
       "1  काठमाडौँ त्यतिबेला पपलाई गफ भनिन्थ्यो पश्चिमा ...   \n",
       "2  काठमाडौँ उनलाई के लाग्छ भने जीवन आफैंमा एक आरो...   \n",
       "3  काठमाडौँ नेपाल सरकारको अधिकृत ब्याट बेसिक एडमि...   \n",
       "4  काठमाडौँ केही समययता नेपालमा सूचना प्रविधि क्ष...   \n",
       "\n",
       "                                      title_token_id  \\\n",
       "0  [101, 889, 31222, 11714, 79632, 11267, 852, 10...   \n",
       "1  [101, 885, 18187, 898, 45753, 31277, 14835, 28...   \n",
       "2  [101, 852, 35247, 107144, 13718, 24667, 25595,...   \n",
       "3  [101, 887, 17279, 14835, 16373, 11081, 49545, ...   \n",
       "4  [101, 882, 76549, 44388, 12512, 11186, 110091,...   \n",
       "\n",
       "                                title_attention_mask  \\\n",
       "0  [1, 1, 1, 1, 1, 1, 1, 1, 1, 1, 1, 1, 1, 1, 1, ...   \n",
       "1  [1, 1, 1, 1, 1, 1, 1, 1, 1, 1, 1, 1, 1, 1, 1, ...   \n",
       "2  [1, 1, 1, 1, 1, 1, 1, 1, 1, 1, 1, 1, 1, 1, 1, ...   \n",
       "3  [1, 1, 1, 1, 1, 1, 1, 1, 1, 1, 1, 0, 0, 0, 0, ...   \n",
       "4  [1, 1, 1, 1, 1, 1, 1, 1, 1, 1, 1, 1, 1, 1, 0, ...   \n",
       "\n",
       "                                       text_token_id  \\\n",
       "0  [101, 11081, 35247, 12347, 20691, 78530, 28462...   \n",
       "1  [101, 11081, 35247, 12347, 20691, 78530, 28462...   \n",
       "2  [101, 11081, 35247, 12347, 20691, 78530, 28462...   \n",
       "3  [101, 11081, 35247, 12347, 20691, 78530, 28462...   \n",
       "4  [101, 11081, 35247, 12347, 20691, 78530, 28462...   \n",
       "\n",
       "                                 text_attention_mask  \\\n",
       "0  [1, 1, 1, 1, 1, 1, 1, 1, 1, 1, 1, 1, 1, 1, 1, ...   \n",
       "1  [1, 1, 1, 1, 1, 1, 1, 1, 1, 1, 1, 1, 1, 1, 1, ...   \n",
       "2  [1, 1, 1, 1, 1, 1, 1, 1, 1, 1, 1, 1, 1, 1, 1, ...   \n",
       "3  [1, 1, 1, 1, 1, 1, 1, 1, 1, 1, 1, 1, 1, 1, 1, ...   \n",
       "4  [1, 1, 1, 1, 1, 1, 1, 1, 1, 1, 1, 1, 1, 1, 1, ...   \n",
       "\n",
       "                                        title_tokens  \\\n",
       "0  [म, ##ंग, ##ल, यात्रा, को, आ, ##शा, ज, ##गा, #...   \n",
       "1  [प, ##प, स, ##म्, ##रा, ##ट, ##्क, ##ो, दो, ##...   \n",
       "2  [आ, ##ठ, आर, ##ो, ##ही, जन्म, ##ा, ##उने, कि, ...   \n",
       "3     [ब, ##्या, ##ट, नं, का, अब, ##्, ##बल, अधिकृत]   \n",
       "4  [द, ##ैनिक, जीवन, ##को, एक, हिस्सा, हा, ##म्, ...   \n",
       "\n",
       "                                         text_tokens  \n",
       "0  [का, ##ठ, ##मा, ##ड, ##ौ, ##ँ, अमेरिकी, अ, ##र...  \n",
       "1  [का, ##ठ, ##मा, ##ड, ##ौ, ##ँ, त, ##्य, ##ति, ...  \n",
       "2  [का, ##ठ, ##मा, ##ड, ##ौ, ##ँ, उन, ##लाई, के, ...  \n",
       "3  [का, ##ठ, ##मा, ##ड, ##ौ, ##ँ, नेपाल, सरकार, #...  \n",
       "4  [का, ##ठ, ##मा, ##ड, ##ौ, ##ँ, केही, समय, ##यत...  "
      ]
     },
     "execution_count": 22,
     "metadata": {},
     "output_type": "execute_result"
    }
   ],
   "source": [
    "new.head()"
   ]
  },
  {
   "cell_type": "code",
   "execution_count": 28,
   "metadata": {},
   "outputs": [
    {
     "data": {
      "text/html": [
       "<div>\n",
       "<style scoped>\n",
       "    .dataframe tbody tr th:only-of-type {\n",
       "        vertical-align: middle;\n",
       "    }\n",
       "\n",
       "    .dataframe tbody tr th {\n",
       "        vertical-align: top;\n",
       "    }\n",
       "\n",
       "    .dataframe thead th {\n",
       "        text-align: right;\n",
       "    }\n",
       "</style>\n",
       "<table border=\"1\" class=\"dataframe\">\n",
       "  <thead>\n",
       "    <tr style=\"text-align: right;\">\n",
       "      <th></th>\n",
       "      <th>title</th>\n",
       "      <th>decoded_title_tokens</th>\n",
       "      <th>text</th>\n",
       "      <th>decoded_text_tokens</th>\n",
       "    </tr>\n",
       "  </thead>\n",
       "  <tbody>\n",
       "    <tr>\n",
       "      <th>0</th>\n",
       "      <td>मंगल यात्रा को आशा जगाउने स्टारसिप</td>\n",
       "      <td>[[CLS], म, ##ंग, ##ल, यात्रा, को, आ, ##शा, ज, ...</td>\n",
       "      <td>काठमाडौँ अमेरिकी अर्बपति इलन मस्कको कम्पनी स्प...</td>\n",
       "      <td>[[CLS], का, ##ठ, ##मा, ##ड, ##ौ, ##ँ, अमेरिकी,...</td>\n",
       "    </tr>\n",
       "    <tr>\n",
       "      <th>1</th>\n",
       "      <td>पप सम्राट्को दोस्रो इनिङ</td>\n",
       "      <td>[[CLS], प, ##प, स, ##म्, ##रा, ##ट, ##्क, ##ो,...</td>\n",
       "      <td>काठमाडौँ त्यतिबेला पपलाई गफ भनिन्थ्यो पश्चिमा ...</td>\n",
       "      <td>[[CLS], का, ##ठ, ##मा, ##ड, ##ौ, ##ँ, त, ##्य,...</td>\n",
       "    </tr>\n",
       "    <tr>\n",
       "      <th>2</th>\n",
       "      <td>आठ आरोही जन्माउने किमजुङ</td>\n",
       "      <td>[[CLS], आ, ##ठ, आर, ##ो, ##ही, जन्म, ##ा, ##उन...</td>\n",
       "      <td>काठमाडौँ उनलाई के लाग्छ भने जीवन आफैंमा एक आरो...</td>\n",
       "      <td>[[CLS], का, ##ठ, ##मा, ##ड, ##ौ, ##ँ, उन, ##ला...</td>\n",
       "    </tr>\n",
       "    <tr>\n",
       "      <th>3</th>\n",
       "      <td>ब्याट नं का अब्बल अधिकृत</td>\n",
       "      <td>[[CLS], ब, ##्या, ##ट, नं, का, अब, ##्, ##बल, ...</td>\n",
       "      <td>काठमाडौँ नेपाल सरकारको अधिकृत ब्याट बेसिक एडमि...</td>\n",
       "      <td>[[CLS], का, ##ठ, ##मा, ##ड, ##ौ, ##ँ, नेपाल, स...</td>\n",
       "    </tr>\n",
       "    <tr>\n",
       "      <th>4</th>\n",
       "      <td>दैनिक जीवनको एक हिस्सा हाम्रो पात्रो</td>\n",
       "      <td>[[CLS], द, ##ैनिक, जीवन, ##को, एक, हिस्सा, हा,...</td>\n",
       "      <td>काठमाडौँ केही समययता नेपालमा सूचना प्रविधि क्ष...</td>\n",
       "      <td>[[CLS], का, ##ठ, ##मा, ##ड, ##ौ, ##ँ, केही, सम...</td>\n",
       "    </tr>\n",
       "  </tbody>\n",
       "</table>\n",
       "</div>"
      ],
      "text/plain": [
       "                                  title  \\\n",
       "0    मंगल यात्रा को आशा जगाउने स्टारसिप   \n",
       "1              पप सम्राट्को दोस्रो इनिङ   \n",
       "2              आठ आरोही जन्माउने किमजुङ   \n",
       "3              ब्याट नं का अब्बल अधिकृत   \n",
       "4  दैनिक जीवनको एक हिस्सा हाम्रो पात्रो   \n",
       "\n",
       "                                decoded_title_tokens  \\\n",
       "0  [[CLS], म, ##ंग, ##ल, यात्रा, को, आ, ##शा, ज, ...   \n",
       "1  [[CLS], प, ##प, स, ##म्, ##रा, ##ट, ##्क, ##ो,...   \n",
       "2  [[CLS], आ, ##ठ, आर, ##ो, ##ही, जन्म, ##ा, ##उन...   \n",
       "3  [[CLS], ब, ##्या, ##ट, नं, का, अब, ##्, ##बल, ...   \n",
       "4  [[CLS], द, ##ैनिक, जीवन, ##को, एक, हिस्सा, हा,...   \n",
       "\n",
       "                                                text  \\\n",
       "0  काठमाडौँ अमेरिकी अर्बपति इलन मस्कको कम्पनी स्प...   \n",
       "1  काठमाडौँ त्यतिबेला पपलाई गफ भनिन्थ्यो पश्चिमा ...   \n",
       "2  काठमाडौँ उनलाई के लाग्छ भने जीवन आफैंमा एक आरो...   \n",
       "3  काठमाडौँ नेपाल सरकारको अधिकृत ब्याट बेसिक एडमि...   \n",
       "4  काठमाडौँ केही समययता नेपालमा सूचना प्रविधि क्ष...   \n",
       "\n",
       "                                 decoded_text_tokens  \n",
       "0  [[CLS], का, ##ठ, ##मा, ##ड, ##ौ, ##ँ, अमेरिकी,...  \n",
       "1  [[CLS], का, ##ठ, ##मा, ##ड, ##ौ, ##ँ, त, ##्य,...  \n",
       "2  [[CLS], का, ##ठ, ##मा, ##ड, ##ौ, ##ँ, उन, ##ला...  \n",
       "3  [[CLS], का, ##ठ, ##मा, ##ड, ##ौ, ##ँ, नेपाल, स...  \n",
       "4  [[CLS], का, ##ठ, ##मा, ##ड, ##ौ, ##ँ, केही, सम...  "
      ]
     },
     "execution_count": 28,
     "metadata": {},
     "output_type": "execute_result"
    }
   ],
   "source": [
    "# Make sure to use .loc to modify the DataFrame directly, avoiding ambiguity\n",
    "new.loc[:, 'decoded_title_tokens'] = df['title_token_id'].apply(decode_tokens)\n",
    "new.loc[:, 'decoded_text_tokens'] = df['text_token_id'].apply(decode_tokens)\n",
    "\n",
    "new[['title', 'decoded_title_tokens', 'text', 'decoded_text_tokens']].head()\n"
   ]
  },
  {
   "cell_type": "code",
   "execution_count": 23,
   "metadata": {},
   "outputs": [],
   "source": [
    "df= new[['title_token_id', 'title_attention_mask', 'text_token_id', 'text_attention_mask']]"
   ]
  },
  {
   "cell_type": "code",
   "execution_count": 24,
   "metadata": {},
   "outputs": [
    {
     "data": {
      "text/html": [
       "<div>\n",
       "<style scoped>\n",
       "    .dataframe tbody tr th:only-of-type {\n",
       "        vertical-align: middle;\n",
       "    }\n",
       "\n",
       "    .dataframe tbody tr th {\n",
       "        vertical-align: top;\n",
       "    }\n",
       "\n",
       "    .dataframe thead th {\n",
       "        text-align: right;\n",
       "    }\n",
       "</style>\n",
       "<table border=\"1\" class=\"dataframe\">\n",
       "  <thead>\n",
       "    <tr style=\"text-align: right;\">\n",
       "      <th></th>\n",
       "      <th>title_token_id</th>\n",
       "      <th>title_attention_mask</th>\n",
       "      <th>text_token_id</th>\n",
       "      <th>text_attention_mask</th>\n",
       "    </tr>\n",
       "  </thead>\n",
       "  <tbody>\n",
       "    <tr>\n",
       "      <th>0</th>\n",
       "      <td>[101, 889, 31222, 11714, 79632, 11267, 852, 10...</td>\n",
       "      <td>[1, 1, 1, 1, 1, 1, 1, 1, 1, 1, 1, 1, 1, 1, 1, ...</td>\n",
       "      <td>[101, 11081, 35247, 12347, 20691, 78530, 28462...</td>\n",
       "      <td>[1, 1, 1, 1, 1, 1, 1, 1, 1, 1, 1, 1, 1, 1, 1, ...</td>\n",
       "    </tr>\n",
       "    <tr>\n",
       "      <th>1</th>\n",
       "      <td>[101, 885, 18187, 898, 45753, 31277, 14835, 28...</td>\n",
       "      <td>[1, 1, 1, 1, 1, 1, 1, 1, 1, 1, 1, 1, 1, 1, 1, ...</td>\n",
       "      <td>[101, 11081, 35247, 12347, 20691, 78530, 28462...</td>\n",
       "      <td>[1, 1, 1, 1, 1, 1, 1, 1, 1, 1, 1, 1, 1, 1, 1, ...</td>\n",
       "    </tr>\n",
       "    <tr>\n",
       "      <th>2</th>\n",
       "      <td>[101, 852, 35247, 107144, 13718, 24667, 25595,...</td>\n",
       "      <td>[1, 1, 1, 1, 1, 1, 1, 1, 1, 1, 1, 1, 1, 1, 1, ...</td>\n",
       "      <td>[101, 11081, 35247, 12347, 20691, 78530, 28462...</td>\n",
       "      <td>[1, 1, 1, 1, 1, 1, 1, 1, 1, 1, 1, 1, 1, 1, 1, ...</td>\n",
       "    </tr>\n",
       "    <tr>\n",
       "      <th>3</th>\n",
       "      <td>[101, 887, 17279, 14835, 16373, 11081, 49545, ...</td>\n",
       "      <td>[1, 1, 1, 1, 1, 1, 1, 1, 1, 1, 1, 0, 0, 0, 0, ...</td>\n",
       "      <td>[101, 11081, 35247, 12347, 20691, 78530, 28462...</td>\n",
       "      <td>[1, 1, 1, 1, 1, 1, 1, 1, 1, 1, 1, 1, 1, 1, 1, ...</td>\n",
       "    </tr>\n",
       "    <tr>\n",
       "      <th>4</th>\n",
       "      <td>[101, 882, 76549, 44388, 12512, 11186, 110091,...</td>\n",
       "      <td>[1, 1, 1, 1, 1, 1, 1, 1, 1, 1, 1, 1, 1, 1, 0, ...</td>\n",
       "      <td>[101, 11081, 35247, 12347, 20691, 78530, 28462...</td>\n",
       "      <td>[1, 1, 1, 1, 1, 1, 1, 1, 1, 1, 1, 1, 1, 1, 1, ...</td>\n",
       "    </tr>\n",
       "  </tbody>\n",
       "</table>\n",
       "</div>"
      ],
      "text/plain": [
       "                                      title_token_id  \\\n",
       "0  [101, 889, 31222, 11714, 79632, 11267, 852, 10...   \n",
       "1  [101, 885, 18187, 898, 45753, 31277, 14835, 28...   \n",
       "2  [101, 852, 35247, 107144, 13718, 24667, 25595,...   \n",
       "3  [101, 887, 17279, 14835, 16373, 11081, 49545, ...   \n",
       "4  [101, 882, 76549, 44388, 12512, 11186, 110091,...   \n",
       "\n",
       "                                title_attention_mask  \\\n",
       "0  [1, 1, 1, 1, 1, 1, 1, 1, 1, 1, 1, 1, 1, 1, 1, ...   \n",
       "1  [1, 1, 1, 1, 1, 1, 1, 1, 1, 1, 1, 1, 1, 1, 1, ...   \n",
       "2  [1, 1, 1, 1, 1, 1, 1, 1, 1, 1, 1, 1, 1, 1, 1, ...   \n",
       "3  [1, 1, 1, 1, 1, 1, 1, 1, 1, 1, 1, 0, 0, 0, 0, ...   \n",
       "4  [1, 1, 1, 1, 1, 1, 1, 1, 1, 1, 1, 1, 1, 1, 0, ...   \n",
       "\n",
       "                                       text_token_id  \\\n",
       "0  [101, 11081, 35247, 12347, 20691, 78530, 28462...   \n",
       "1  [101, 11081, 35247, 12347, 20691, 78530, 28462...   \n",
       "2  [101, 11081, 35247, 12347, 20691, 78530, 28462...   \n",
       "3  [101, 11081, 35247, 12347, 20691, 78530, 28462...   \n",
       "4  [101, 11081, 35247, 12347, 20691, 78530, 28462...   \n",
       "\n",
       "                                 text_attention_mask  \n",
       "0  [1, 1, 1, 1, 1, 1, 1, 1, 1, 1, 1, 1, 1, 1, 1, ...  \n",
       "1  [1, 1, 1, 1, 1, 1, 1, 1, 1, 1, 1, 1, 1, 1, 1, ...  \n",
       "2  [1, 1, 1, 1, 1, 1, 1, 1, 1, 1, 1, 1, 1, 1, 1, ...  \n",
       "3  [1, 1, 1, 1, 1, 1, 1, 1, 1, 1, 1, 1, 1, 1, 1, ...  \n",
       "4  [1, 1, 1, 1, 1, 1, 1, 1, 1, 1, 1, 1, 1, 1, 1, ...  "
      ]
     },
     "execution_count": 24,
     "metadata": {},
     "output_type": "execute_result"
    }
   ],
   "source": [
    "df.head()"
   ]
  },
  {
   "cell_type": "code",
   "execution_count": 25,
   "metadata": {},
   "outputs": [
    {
     "data": {
      "text/plain": [
       "Index(['title_token_id', 'title_attention_mask', 'text_token_id',\n",
       "       'text_attention_mask'],\n",
       "      dtype='object')"
      ]
     },
     "execution_count": 25,
     "metadata": {},
     "output_type": "execute_result"
    }
   ],
   "source": [
    "df.columns"
   ]
  },
  {
   "cell_type": "code",
   "execution_count": 35,
   "metadata": {},
   "outputs": [
    {
     "name": "stdout",
     "output_type": "stream",
     "text": [
      "Number of titles with more than 512 tokens: 0\n",
      "Number of texts with more than 512 tokens: 0\n",
      "Number of titles with special characters: 48412\n",
      "Number of texts with special characters: 48412\n"
     ]
    }
   ],
   "source": [
    "# Step 2: Check if tokenized title or text exceeds 512 tokens\n",
    "title_token_length = new['title_token_id'].apply(len)\n",
    "text_token_length = new['text_token_id'].apply(len)\n",
    "\n",
    "# Check if any token length exceeds 512\n",
    "long_titles = title_token_length[title_token_length > 512].count()\n",
    "long_texts = text_token_length[text_token_length > 512].count()\n",
    "\n",
    "print(f\"Number of titles with more than 512 tokens: {long_titles}\")\n",
    "print(f\"Number of texts with more than 512 tokens: {long_texts}\")\n",
    "\n",
    "# Step 3: Check for special characters in title and text\n",
    "# Non-alphanumeric characters check (ignoring spaces)\n",
    "def check_special_chars(text):\n",
    "    return bool(re.search(r'[^A-Za-z0-9\\s]', text))  # Checks for non-alphanumeric characters\n",
    "\n",
    "# Apply to title and text columns\n",
    "new['title_has_special_chars'] = new['title'].apply(check_special_chars)\n",
    "new['text_has_special_chars'] = new['text'].apply(check_special_chars)\n",
    "\n",
    "# Count rows with special characters\n",
    "title_with_special_chars = new['title_has_special_chars'].sum()\n",
    "text_with_special_chars = new['text_has_special_chars'].sum()\n",
    "\n",
    "print(f\"Number of titles with special characters: {title_with_special_chars}\")\n",
    "print(f\"Number of texts with special characters: {text_with_special_chars}\")\n"
   ]
  },
  {
   "cell_type": "code",
   "execution_count": 36,
   "metadata": {},
   "outputs": [],
   "source": [
    "df= new[['title_token_id', 'title_attention_mask', 'text_token_id', 'text_attention_mask']]"
   ]
  },
  {
   "cell_type": "code",
   "execution_count": 39,
   "metadata": {},
   "outputs": [
    {
     "name": "stdout",
     "output_type": "stream",
     "text": [
      "Missing values in columns:\n",
      "title_token_id          0\n",
      "title_attention_mask    0\n",
      "text_token_id           0\n",
      "text_attention_mask     0\n",
      "dtype: int64\n",
      "\n",
      "Max title token length: 512\n",
      "Max text token length: 512\n",
      "\n",
      "Invalid title attention masks (mismatch with token length): 0\n",
      "Invalid text attention masks (mismatch with token length): 0\n",
      "\n",
      "Invalid title token lengths (> 512 tokens): 0\n",
      "Invalid text token lengths (> 512 tokens): 0\n",
      "\n",
      "Empty title rows: 0\n",
      "Empty text rows: 0\n"
     ]
    }
   ],
   "source": [
    "# Final Check Before Generating Embeddings\n",
    "\n",
    "# Check for missing values\n",
    "missing_values = df[['title_token_id', 'title_attention_mask', 'text_token_id', 'text_attention_mask']].isnull().sum()\n",
    "\n",
    "# Check if token lengths are valid (must be <= 512)\n",
    "max_title_length = df['title_token_id'].apply(len).max()\n",
    "max_text_length = df['text_token_id'].apply(len).max()\n",
    "\n",
    "# Check if attention masks match the token lengths\n",
    "invalid_title_attention_mask = ((df['title_attention_mask'].apply(len) != df['title_token_id'].apply(len))).sum()\n",
    "invalid_text_attention_mask = ((df['text_attention_mask'].apply(len) != df['text_token_id'].apply(len))).sum()\n",
    "\n",
    "# Check if token lengths are valid (<= 512)\n",
    "invalid_title_length = (df['title_token_id'].apply(len) > 512).sum()\n",
    "invalid_text_length = (df['text_token_id'].apply(len) > 512).sum()\n",
    "\n",
    "# Check for empty rows\n",
    "empty_title_rows = (df['title_token_id'].apply(len) == 0).sum()\n",
    "empty_text_rows = (df['text_token_id'].apply(len) == 0).sum()\n",
    "\n",
    "# Print out results of checks\n",
    "print(\"Missing values in columns:\")\n",
    "print(missing_values)\n",
    "\n",
    "print(\"\\nMax title token length:\", max_title_length)\n",
    "print(\"Max text token length:\", max_text_length)\n",
    "\n",
    "print(\"\\nInvalid title attention masks (mismatch with token length):\", invalid_title_attention_mask)\n",
    "print(\"Invalid text attention masks (mismatch with token length):\", invalid_text_attention_mask)\n",
    "\n",
    "print(\"\\nInvalid title token lengths (> 512 tokens):\", invalid_title_length)\n",
    "print(\"Invalid text token lengths (> 512 tokens):\", invalid_text_length)\n",
    "\n",
    "print(\"\\nEmpty title rows:\", empty_title_rows)\n",
    "print(\"Empty text rows:\", empty_text_rows)\n"
   ]
  },
  {
   "cell_type": "code",
   "execution_count": 48,
   "metadata": {},
   "outputs": [
    {
     "data": {
      "text/plain": [
       "(48412, 4)"
      ]
     },
     "execution_count": 48,
     "metadata": {},
     "output_type": "execute_result"
    }
   ],
   "source": [
    "df.shape"
   ]
  },
  {
   "cell_type": "code",
   "execution_count": null,
   "metadata": {},
   "outputs": [
    {
     "data": {
      "text/html": [
       "<div>\n",
       "<style scoped>\n",
       "    .dataframe tbody tr th:only-of-type {\n",
       "        vertical-align: middle;\n",
       "    }\n",
       "\n",
       "    .dataframe tbody tr th {\n",
       "        vertical-align: top;\n",
       "    }\n",
       "\n",
       "    .dataframe thead th {\n",
       "        text-align: right;\n",
       "    }\n",
       "</style>\n",
       "<table border=\"1\" class=\"dataframe\">\n",
       "  <thead>\n",
       "    <tr style=\"text-align: right;\">\n",
       "      <th></th>\n",
       "      <th>title_token_id</th>\n",
       "      <th>title_attention_mask</th>\n",
       "      <th>text_token_id</th>\n",
       "      <th>text_attention_mask</th>\n",
       "    </tr>\n",
       "  </thead>\n",
       "  <tbody>\n",
       "    <tr>\n",
       "      <th>48418</th>\n",
       "      <td>[101, 865, 111203, 20429, 91405, 17413, 81489,...</td>\n",
       "      <td>[1, 1, 1, 1, 1, 1, 1, 1, 1, 1, 1, 1, 1, 1, 1, ...</td>\n",
       "      <td>[101, 886, 14070, 81489, 50101, 12878, 81489, ...</td>\n",
       "      <td>[1, 1, 1, 1, 1, 1, 1, 1, 1, 1, 1, 1, 1, 1, 1, ...</td>\n",
       "    </tr>\n",
       "    <tr>\n",
       "      <th>48419</th>\n",
       "      <td>[101, 887, 12878, 45470, 10914, 12213, 14251, ...</td>\n",
       "      <td>[1, 1, 1, 1, 1, 1, 1, 1, 1, 1, 1, 1, 1, 1, 1, ...</td>\n",
       "      <td>[101, 867, 75348, 18351, 56523, 15552, 52398, ...</td>\n",
       "      <td>[1, 1, 1, 1, 1, 1, 1, 1, 1, 1, 1, 1, 1, 1, 1, ...</td>\n",
       "    </tr>\n",
       "    <tr>\n",
       "      <th>48420</th>\n",
       "      <td>[101, 882, 13432, 99007, 887, 12878, 25501, 12...</td>\n",
       "      <td>[1, 1, 1, 1, 1, 1, 1, 1, 1, 1, 1, 1, 1, 1, 1, ...</td>\n",
       "      <td>[101, 870, 13184, 45052, 11081, 102910, 12151,...</td>\n",
       "      <td>[1, 1, 1, 1, 1, 1, 1, 1, 1, 1, 1, 1, 1, 1, 1, ...</td>\n",
       "    </tr>\n",
       "    <tr>\n",
       "      <th>48421</th>\n",
       "      <td>[101, 57865, 12151, 21147, 61809, 15399, 55190...</td>\n",
       "      <td>[1, 1, 1, 1, 1, 1, 1, 1, 1, 1, 1, 1, 1, 1, 1, ...</td>\n",
       "      <td>[101, 867, 41937, 45319, 11081, 102910, 12151,...</td>\n",
       "      <td>[1, 1, 1, 1, 1, 1, 1, 1, 1, 1, 1, 1, 1, 1, 1, ...</td>\n",
       "    </tr>\n",
       "    <tr>\n",
       "      <th>48422</th>\n",
       "      <td>[101, 887, 111204, 60254, 13718, 868, 14070, 4...</td>\n",
       "      <td>[1, 1, 1, 1, 1, 1, 1, 1, 1, 1, 1, 0, 0, 0, 0, ...</td>\n",
       "      <td>[101, 867, 54777, 24962, 11081, 102910, 12151,...</td>\n",
       "      <td>[1, 1, 1, 1, 1, 1, 1, 1, 1, 1, 1, 1, 1, 1, 1, ...</td>\n",
       "    </tr>\n",
       "  </tbody>\n",
       "</table>\n",
       "</div>"
      ],
      "text/plain": [
       "                                          title_token_id  \\\n",
       "48418  [101, 865, 111203, 20429, 91405, 17413, 81489,...   \n",
       "48419  [101, 887, 12878, 45470, 10914, 12213, 14251, ...   \n",
       "48420  [101, 882, 13432, 99007, 887, 12878, 25501, 12...   \n",
       "48421  [101, 57865, 12151, 21147, 61809, 15399, 55190...   \n",
       "48422  [101, 887, 111204, 60254, 13718, 868, 14070, 4...   \n",
       "\n",
       "                                    title_attention_mask  \\\n",
       "48418  [1, 1, 1, 1, 1, 1, 1, 1, 1, 1, 1, 1, 1, 1, 1, ...   \n",
       "48419  [1, 1, 1, 1, 1, 1, 1, 1, 1, 1, 1, 1, 1, 1, 1, ...   \n",
       "48420  [1, 1, 1, 1, 1, 1, 1, 1, 1, 1, 1, 1, 1, 1, 1, ...   \n",
       "48421  [1, 1, 1, 1, 1, 1, 1, 1, 1, 1, 1, 1, 1, 1, 1, ...   \n",
       "48422  [1, 1, 1, 1, 1, 1, 1, 1, 1, 1, 1, 0, 0, 0, 0, ...   \n",
       "\n",
       "                                           text_token_id  \\\n",
       "48418  [101, 886, 14070, 81489, 50101, 12878, 81489, ...   \n",
       "48419  [101, 867, 75348, 18351, 56523, 15552, 52398, ...   \n",
       "48420  [101, 870, 13184, 45052, 11081, 102910, 12151,...   \n",
       "48421  [101, 867, 41937, 45319, 11081, 102910, 12151,...   \n",
       "48422  [101, 867, 54777, 24962, 11081, 102910, 12151,...   \n",
       "\n",
       "                                     text_attention_mask  \n",
       "48418  [1, 1, 1, 1, 1, 1, 1, 1, 1, 1, 1, 1, 1, 1, 1, ...  \n",
       "48419  [1, 1, 1, 1, 1, 1, 1, 1, 1, 1, 1, 1, 1, 1, 1, ...  \n",
       "48420  [1, 1, 1, 1, 1, 1, 1, 1, 1, 1, 1, 1, 1, 1, 1, ...  \n",
       "48421  [1, 1, 1, 1, 1, 1, 1, 1, 1, 1, 1, 1, 1, 1, 1, ...  \n",
       "48422  [1, 1, 1, 1, 1, 1, 1, 1, 1, 1, 1, 1, 1, 1, 1, ...  "
      ]
     },
     "execution_count": 44,
     "metadata": {},
     "output_type": "execute_result"
    }
   ],
   "source": [
    "df.tail()\n"
   ]
  },
  {
   "cell_type": "code",
   "execution_count": 52,
   "metadata": {},
   "outputs": [
    {
     "name": "stdout",
     "output_type": "stream",
     "text": [
      "Last row index: 48411\n",
      "while printing df.shape (48412, 4)\n"
     ]
    }
   ],
   "source": [
    "last_row_index = df.index[-1]\n",
    "print(\"Last row index:\", last_row_index)\n",
    "print(\"while printing df.shape\",df.shape)\n"
   ]
  },
  {
   "cell_type": "code",
   "execution_count": 51,
   "metadata": {},
   "outputs": [],
   "source": [
    "df = df.reset_index(drop=True)\n"
   ]
  },
  {
   "cell_type": "code",
   "execution_count": 53,
   "metadata": {},
   "outputs": [
    {
     "name": "stderr",
     "output_type": "stream",
     "text": [
      "c:\\Users\\ACER\\AppData\\Local\\Programs\\Python\\Python311\\Lib\\site-packages\\numpy\\_core\\fromnumeric.py:57: FutureWarning: 'DataFrame.swapaxes' is deprecated and will be removed in a future version. Please use 'DataFrame.transpose' instead.\n",
      "  return bound(*args, **kwds)\n"
     ]
    },
    {
     "data": {
      "text/plain": [
       "'Chunks saved successfully!'"
      ]
     },
     "execution_count": 53,
     "metadata": {},
     "output_type": "execute_result"
    }
   ],
   "source": [
    "import os\n",
    "import numpy as np\n",
    "\n",
    "# Ensure the directory exists\n",
    "output_dir = r\"C:\\Users\\ACER\\Desktop\\Chuncks-5\"\n",
    "os.makedirs(output_dir, exist_ok=True)\n",
    "\n",
    "# Split DataFrame into 5 parts\n",
    "num_chunks = 5\n",
    "chunks = np.array_split(df, num_chunks)\n",
    "\n",
    "# Save each chunk as a CSV file in the specified folder\n",
    "for i, chunk in enumerate(chunks):\n",
    "    chunk.to_csv(f\"{output_dir}/chunk_{i+1}.csv\", index=False)\n",
    "\n",
    "\"Chunks saved successfully!\"\n"
   ]
  }
 ],
 "metadata": {
  "kernelspec": {
   "display_name": "Python 3",
   "language": "python",
   "name": "python3"
  },
  "language_info": {
   "codemirror_mode": {
    "name": "ipython",
    "version": 3
   },
   "file_extension": ".py",
   "mimetype": "text/x-python",
   "name": "python",
   "nbconvert_exporter": "python",
   "pygments_lexer": "ipython3",
   "version": "3.11.0"
  }
 },
 "nbformat": 4,
 "nbformat_minor": 2
}
